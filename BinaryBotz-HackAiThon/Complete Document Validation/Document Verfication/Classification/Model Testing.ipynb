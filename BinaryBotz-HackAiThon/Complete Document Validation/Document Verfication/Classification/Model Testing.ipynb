{
 "cells": [
  {
   "cell_type": "code",
   "execution_count": 7,
   "id": "903ce993-3044-481b-8c19-c6d83dda4767",
   "metadata": {},
   "outputs": [
    {
     "name": "stdout",
     "output_type": "stream",
     "text": [
      "Classes in the model: {0: 'aadhar_back', 1: 'aadhar_front', 2: 'driving_license_back', 3: 'driving_license_front', 4: 'pan_card_front', 5: 'passport', 6: 'voter_id'}\n"
     ]
    }
   ],
   "source": [
    "from ultralytics import YOLO\n",
    "import cv2\n",
    "\n",
    "# Load the YOLO classification model\n",
    "model = YOLO(\"./id_classifier.pt\")  # Replace with your model file\n",
    "\n",
    "# List all classes available in the model\n",
    "classes = model.names  # All class names the model can classify\n",
    "print(\"Classes in the model:\", classes)"
   ]
  },
  {
   "cell_type": "code",
   "execution_count": 8,
   "id": "22eed44d-b1ea-41bd-822a-3123e4c1d9be",
   "metadata": {},
   "outputs": [
    {
     "name": "stdout",
     "output_type": "stream",
     "text": [
      "\n",
      "0: 640x640 aadhar_back 1.00, aadhar_front 0.00, driving_license_back 0.00, driving_license_front 0.00, voter_id 0.00, 20.0ms\n",
      "Speed: 24.5ms preprocess, 20.0ms inference, 0.0ms postprocess per image at shape (1, 3, 640, 640)\n",
      "Predicted Class: 0, Confidence: 1.00\n"
     ]
    }
   ],
   "source": [
    "# Load the image\n",
    "image_path = \"../Aadhaar Card/Aadhaar_Back.jpg\"  # Replace with your image path\n",
    "image = cv2.imread(image_path)\n",
    "\n",
    "# Perform classification\n",
    "results = model(image)\n",
    "\n",
    "# Display results\n",
    "for result in results:\n",
    "    print(f\"Predicted Class: {result.probs.top1}, Confidence: {result.probs.top1conf:.2f}\")"
   ]
  },
  {
   "cell_type": "code",
   "execution_count": 9,
   "id": "6da296e0-f60a-451e-adce-cfaf8eeb8382",
   "metadata": {},
   "outputs": [
    {
     "name": "stdout",
     "output_type": "stream",
     "text": [
      "Predicted Class: aadhar_back\n"
     ]
    }
   ],
   "source": [
    "for result in results:\n",
    "    predicted_class = result.names[result.probs.top1]  # Get class name from index\n",
    "    print(f\"Predicted Class: {predicted_class}\")"
   ]
  },
  {
   "cell_type": "code",
   "execution_count": null,
   "id": "7b3328af-1818-4676-a57f-1bc57ec49c7c",
   "metadata": {},
   "outputs": [],
   "source": []
  }
 ],
 "metadata": {
  "kernelspec": {
   "display_name": "Python 3 (ipykernel)",
   "language": "python",
   "name": "python3"
  },
  "language_info": {
   "codemirror_mode": {
    "name": "ipython",
    "version": 3
   },
   "file_extension": ".py",
   "mimetype": "text/x-python",
   "name": "python",
   "nbconvert_exporter": "python",
   "pygments_lexer": "ipython3",
   "version": "3.12.9"
  }
 },
 "nbformat": 4,
 "nbformat_minor": 5
}
