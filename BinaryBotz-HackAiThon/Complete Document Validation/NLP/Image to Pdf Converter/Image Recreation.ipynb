{
 "cells": [
  {
   "cell_type": "code",
   "execution_count": 5,
   "id": "68d98007-7bbe-40b2-a7ea-61107d37e146",
   "metadata": {},
   "outputs": [
    {
     "name": "stdout",
     "output_type": "stream",
     "text": [
      "[2025/02/20 18:51:36] ppocr DEBUG: Namespace(help='==SUPPRESS==', use_gpu=False, use_xpu=False, use_npu=False, use_mlu=False, ir_optim=True, use_tensorrt=False, min_subgraph_size=15, precision='fp32', gpu_mem=500, gpu_id=0, image_dir=None, page_num=0, det_algorithm='DB', det_model_dir='C:\\\\Users\\\\LogaSanjeev/.paddleocr/whl\\\\det\\\\en\\\\en_PP-OCRv3_det_infer', det_limit_side_len=960, det_limit_type='max', det_box_type='quad', det_db_thresh=0.3, det_db_box_thresh=0.6, det_db_unclip_ratio=1.5, max_batch_size=10, use_dilation=False, det_db_score_mode='fast', det_east_score_thresh=0.8, det_east_cover_thresh=0.1, det_east_nms_thresh=0.2, det_sast_score_thresh=0.5, det_sast_nms_thresh=0.2, det_pse_thresh=0, det_pse_box_thresh=0.85, det_pse_min_area=16, det_pse_scale=1, scales=[8, 16, 32], alpha=1.0, beta=1.0, fourier_degree=5, rec_algorithm='SVTR_LCNet', rec_model_dir='C:\\\\Users\\\\LogaSanjeev/.paddleocr/whl\\\\rec\\\\en\\\\en_PP-OCRv4_rec_infer', rec_image_inverse=True, rec_image_shape='3, 48, 320', rec_batch_num=6, max_text_length=25, rec_char_dict_path='c:\\\\Users\\\\LogaSanjeev\\\\anaconda3\\\\envs\\\\base-py\\\\Lib\\\\site-packages\\\\paddleocr\\\\ppocr\\\\utils\\\\en_dict.txt', use_space_char=True, vis_font_path='./doc/fonts/simfang.ttf', drop_score=0.5, e2e_algorithm='PGNet', e2e_model_dir=None, e2e_limit_side_len=768, e2e_limit_type='max', e2e_pgnet_score_thresh=0.5, e2e_char_dict_path='./ppocr/utils/ic15_dict.txt', e2e_pgnet_valid_set='totaltext', e2e_pgnet_mode='fast', use_angle_cls=True, cls_model_dir='C:\\\\Users\\\\LogaSanjeev/.paddleocr/whl\\\\cls\\\\ch_ppocr_mobile_v2.0_cls_infer', cls_image_shape='3, 48, 192', label_list=['0', '180'], cls_batch_num=6, cls_thresh=0.9, enable_mkldnn=False, cpu_threads=10, use_pdserving=False, warmup=False, sr_model_dir=None, sr_image_shape='3, 32, 128', sr_batch_num=1, draw_img_save_dir='./inference_results', save_crop_res=False, crop_res_save_dir='./output', use_mp=False, total_process_num=1, process_id=0, benchmark=False, save_log_path='./log_output/', show_log=True, use_onnx=False, return_word_box=False, output='./output', table_max_len=488, table_algorithm='TableAttn', table_model_dir=None, merge_no_span_structure=True, table_char_dict_path=None, formula_algorithm='LaTeXOCR', formula_model_dir=None, formula_char_dict_path=None, formula_batch_num=1, layout_model_dir=None, layout_dict_path=None, layout_score_threshold=0.5, layout_nms_threshold=0.5, kie_algorithm='LayoutXLM', ser_model_dir=None, re_model_dir=None, use_visual_backbone=True, ser_dict_path='../train_data/XFUND/class_list_xfun.txt', ocr_order_method=None, mode='structure', image_orientation=False, layout=True, table=True, formula=False, ocr=True, recovery=False, recovery_to_markdown=False, use_pdf2docx_api=False, invert=False, binarize=False, alphacolor=(255, 255, 255), lang='en', det=True, rec=True, type='ocr', savefile=False, ocr_version='PP-OCRv4', structure_version='PP-StructureV2')\n",
      "[2025/02/20 18:51:38] ppocr DEBUG: dt_boxes num : 36, elapsed : 0.39957618713378906\n",
      "[2025/02/20 18:51:38] ppocr DEBUG: cls num  : 36, elapsed : 0.06751275062561035\n",
      "[2025/02/20 18:51:40] ppocr DEBUG: rec_res num  : 36, elapsed : 2.1211111545562744\n"
     ]
    }
   ],
   "source": [
    "import cv2\n",
    "import numpy as np\n",
    "from paddleocr import PaddleOCR\n",
    "from PIL import Image, ImageDraw, ImageFont\n",
    "\n",
    "# Load the image and get its dimensions\n",
    "image_path = \"../Death Certificates/Death_Certificate.jpg\"\n",
    "img_cv = cv2.imread(image_path)\n",
    "h, w, _ = img_cv.shape\n",
    "\n",
    "# Create a blank white image using PIL with the same dimensions\n",
    "blank_image = Image.new('RGB', (w, h), (255, 255, 255))\n",
    "draw = ImageDraw.Draw(blank_image)\n",
    "\n",
    "# Initialize PaddleOCR (CPU mode)\n",
    "ocr = PaddleOCR(use_angle_cls=True, lang=\"en\")\n",
    "\n",
    "# Run OCR on the image\n",
    "result = ocr.ocr(image_path, cls=True)\n",
    "\n",
    "# Function to determine the best font size\n",
    "def get_best_fit_font(text, bbox_width, bbox_height):\n",
    "    \"\"\" Dynamically find the best font size that fits inside the bounding box \"\"\"\n",
    "    font_size = bbox_height  # Start with bbox height\n",
    "    while font_size > 5:  # Ensure font is not too small\n",
    "        try:\n",
    "            font = ImageFont.truetype(\"arial.ttf\", font_size)\n",
    "        except:\n",
    "            font = ImageFont.load_default()\n",
    "        \n",
    "        text_width, text_height = draw.textbbox((0, 0), text, font=font)[2:]\n",
    "        if text_width <= bbox_width and text_height <= bbox_height:\n",
    "            return font\n",
    "        font_size -= 1  # Reduce size if it doesn't fit\n",
    "    return font  # Return the smallest possible fitting font\n",
    "\n",
    "# Loop over each detected text block and draw the text at its bounding box's exact position\n",
    "for line in result:\n",
    "    for word in line:\n",
    "        text = word[1][0]  # Extract detected text\n",
    "        bbox = np.array(word[0])  # Bounding box coordinates (4 points)\n",
    "\n",
    "        # Get bounding box position\n",
    "        x1, y1 = bbox[0]  # Top-left\n",
    "        x2, y2 = bbox[2]  # Bottom-right\n",
    "\n",
    "        bbox_width = x2 - x1\n",
    "        bbox_height = y2 - y1\n",
    "\n",
    "        # Get the best font size to match the text dimensions\n",
    "        font = get_best_fit_font(text, bbox_width, bbox_height)\n",
    "\n",
    "        # Compute the angle of rotation\n",
    "        dx, dy = bbox[1] - bbox[0]  # Vector along the top of the bounding box\n",
    "        angle = np.degrees(np.arctan2(dy, dx))  # Compute angle in degrees\n",
    "\n",
    "        # Create a temporary transparent image for rotated text\n",
    "        text_layer = Image.new(\"RGBA\", (w, h), (255, 255, 255, 0))\n",
    "        text_draw = ImageDraw.Draw(text_layer)\n",
    "\n",
    "        # Draw text at (x1, y1)\n",
    "        text_draw.text((x1, y1), text, fill=(0, 0, 0, 255), font=font)\n",
    "\n",
    "        # Rotate the text layer to match the detected text angle\n",
    "        rotated_text_layer = text_layer.rotate(angle, center=(x1, y1), resample=Image.BICUBIC)\n",
    "\n",
    "        # Paste rotated text onto the blank image\n",
    "        blank_image.paste(rotated_text_layer, mask=rotated_text_layer)\n",
    "\n",
    "# Display the resulting image\n",
    "blank_image.show()\n",
    "\n",
    "# Save the final output\n",
    "blank_image.save(\"text_recreated.jpg\")"
   ]
  },
  {
   "cell_type": "code",
   "execution_count": null,
   "id": "d51a895b-748f-4c6a-99ee-fa951e167550",
   "metadata": {},
   "outputs": [],
   "source": []
  }
 ],
 "metadata": {
  "kernelspec": {
   "display_name": "Python 3 (ipykernel)",
   "language": "python",
   "name": "python3"
  },
  "language_info": {
   "codemirror_mode": {
    "name": "ipython",
    "version": 3
   },
   "file_extension": ".py",
   "mimetype": "text/x-python",
   "name": "python",
   "nbconvert_exporter": "python",
   "pygments_lexer": "ipython3",
   "version": "3.10.14"
  }
 },
 "nbformat": 4,
 "nbformat_minor": 5
}
