{
 "cells": [
  {
   "cell_type": "code",
   "execution_count": 2,
   "id": "914b19b3-2820-4f0e-99f1-d334f24dfc0e",
   "metadata": {},
   "outputs": [
    {
     "name": "stdout",
     "output_type": "stream",
     "text": [
      "[2025/02/22 17:32:20] ppocr DEBUG: Namespace(help='==SUPPRESS==', use_gpu=False, use_xpu=False, use_npu=False, use_mlu=False, ir_optim=True, use_tensorrt=False, min_subgraph_size=15, precision='fp32', gpu_mem=500, gpu_id=0, image_dir=None, page_num=0, det_algorithm='DB', det_model_dir='C:\\\\Users\\\\LogaSanjeev/.paddleocr/whl\\\\det\\\\en\\\\en_PP-OCRv3_det_infer', det_limit_side_len=960, det_limit_type='max', det_box_type='quad', det_db_thresh=0.3, det_db_box_thresh=0.6, det_db_unclip_ratio=1.5, max_batch_size=10, use_dilation=False, det_db_score_mode='fast', det_east_score_thresh=0.8, det_east_cover_thresh=0.1, det_east_nms_thresh=0.2, det_sast_score_thresh=0.5, det_sast_nms_thresh=0.2, det_pse_thresh=0, det_pse_box_thresh=0.85, det_pse_min_area=16, det_pse_scale=1, scales=[8, 16, 32], alpha=1.0, beta=1.0, fourier_degree=5, rec_algorithm='SVTR_LCNet', rec_model_dir='C:\\\\Users\\\\LogaSanjeev/.paddleocr/whl\\\\rec\\\\en\\\\en_PP-OCRv4_rec_infer', rec_image_inverse=True, rec_image_shape='3, 48, 320', rec_batch_num=6, max_text_length=25, rec_char_dict_path='c:\\\\Users\\\\LogaSanjeev\\\\anaconda3\\\\envs\\\\base-py\\\\Lib\\\\site-packages\\\\paddleocr\\\\ppocr\\\\utils\\\\en_dict.txt', use_space_char=True, vis_font_path='./doc/fonts/simfang.ttf', drop_score=0.5, e2e_algorithm='PGNet', e2e_model_dir=None, e2e_limit_side_len=768, e2e_limit_type='max', e2e_pgnet_score_thresh=0.5, e2e_char_dict_path='./ppocr/utils/ic15_dict.txt', e2e_pgnet_valid_set='totaltext', e2e_pgnet_mode='fast', use_angle_cls=True, cls_model_dir='C:\\\\Users\\\\LogaSanjeev/.paddleocr/whl\\\\cls\\\\ch_ppocr_mobile_v2.0_cls_infer', cls_image_shape='3, 48, 192', label_list=['0', '180'], cls_batch_num=6, cls_thresh=0.9, enable_mkldnn=False, cpu_threads=10, use_pdserving=False, warmup=False, sr_model_dir=None, sr_image_shape='3, 32, 128', sr_batch_num=1, draw_img_save_dir='./inference_results', save_crop_res=False, crop_res_save_dir='./output', use_mp=False, total_process_num=1, process_id=0, benchmark=False, save_log_path='./log_output/', show_log=True, use_onnx=False, return_word_box=False, output='./output', table_max_len=488, table_algorithm='TableAttn', table_model_dir=None, merge_no_span_structure=True, table_char_dict_path=None, formula_algorithm='LaTeXOCR', formula_model_dir=None, formula_char_dict_path=None, formula_batch_num=1, layout_model_dir=None, layout_dict_path=None, layout_score_threshold=0.5, layout_nms_threshold=0.5, kie_algorithm='LayoutXLM', ser_model_dir=None, re_model_dir=None, use_visual_backbone=True, ser_dict_path='../train_data/XFUND/class_list_xfun.txt', ocr_order_method=None, mode='structure', image_orientation=False, layout=True, table=True, formula=False, ocr=True, recovery=False, recovery_to_markdown=False, use_pdf2docx_api=False, invert=False, binarize=False, alphacolor=(255, 255, 255), lang='en', det=True, rec=True, type='ocr', savefile=False, ocr_version='PP-OCRv4', structure_version='PP-StructureV2')\n",
      "[2025/02/22 17:32:25] ppocr DEBUG: dt_boxes num : 40, elapsed : 0.29894208908081055\n",
      "[2025/02/22 17:32:25] ppocr DEBUG: cls num  : 40, elapsed : 0.2160484790802002\n",
      "[2025/02/22 17:32:28] ppocr DEBUG: rec_res num  : 40, elapsed : 2.6712698936462402\n",
      "PDF saved as output.pdf\n"
     ]
    }
   ],
   "source": [
    "import cv2\n",
    "from paddleocr import PaddleOCR\n",
    "from reportlab.pdfgen import canvas\n",
    "from reportlab.lib.pagesizes import letter\n",
    "\n",
    "# Load the image and get its dimensions\n",
    "image_path = r\"D:\\SBI Life Hack-AI-Thon\\NLP\\Death Certificates\\Death_Certificate_4.png\"\n",
    "img_cv = cv2.imread(image_path)\n",
    "h, w, _ = img_cv.shape\n",
    "\n",
    "# Initialize PaddleOCR (CPU mode)\n",
    "ocr = PaddleOCR(use_angle_cls=True, lang=\"en\")\n",
    "\n",
    "# Run OCR on the image\n",
    "result = ocr.ocr(image_path, cls=True)\n",
    "\n",
    "# Create a PDF file with the same dimensions as the image\n",
    "pdf_path = \"output.pdf\"\n",
    "pdf = canvas.Canvas(pdf_path, pagesize=(w, h))\n",
    "\n",
    "# Loop over each detected text block and add it to the PDF at the correct position\n",
    "for line in result:\n",
    "    for word in line:\n",
    "        text = word[1][0]  # Extract detected text\n",
    "        bbox = word[0]  # Bounding box coordinates\n",
    "\n",
    "        # Extract top-left and bottom-right coordinates\n",
    "        x1, y1 = bbox[0][0], bbox[0][1]\n",
    "        x2, y2 = bbox[2][0], bbox[2][1]\n",
    "\n",
    "        # Calculate bounding box width and height\n",
    "        bbox_width = x2 - x1\n",
    "        bbox_height = y2 - y1\n",
    "\n",
    "        # Adjust font size based on text height (scaled for better readability)\n",
    "        font_size = max(int(bbox_height * 0.9), 8)  # Prevent font from being too small\n",
    "        pdf.setFont(\"Helvetica\", font_size)\n",
    "\n",
    "        # Convert OpenCV coordinates (top-left origin) to PDF (bottom-left origin)\n",
    "        pdf_y = h - y2  # Adjusting to bottom-left origin\n",
    "\n",
    "        # Adjust baseline position to center text better\n",
    "        baseline_adjustment = font_size * 0.3  # Empirical factor for alignment\n",
    "        pdf_y += baseline_adjustment\n",
    "\n",
    "        # Draw text in the PDF\n",
    "        pdf.drawString(x1, pdf_y, text)\n",
    "\n",
    "# Save the PDF file\n",
    "pdf.save()\n",
    "print(f\"PDF saved as {pdf_path}\")"
   ]
  },
  {
   "cell_type": "code",
   "execution_count": null,
   "id": "9a6a7b1f-346f-4b6b-8605-38e5a0c968bf",
   "metadata": {},
   "outputs": [],
   "source": []
  }
 ],
 "metadata": {
  "kernelspec": {
   "display_name": "Python 3 (ipykernel)",
   "language": "python",
   "name": "python3"
  },
  "language_info": {
   "codemirror_mode": {
    "name": "ipython",
    "version": 3
   },
   "file_extension": ".py",
   "mimetype": "text/x-python",
   "name": "python",
   "nbconvert_exporter": "python",
   "pygments_lexer": "ipython3",
   "version": "3.12.9"
  }
 },
 "nbformat": 4,
 "nbformat_minor": 5
}
