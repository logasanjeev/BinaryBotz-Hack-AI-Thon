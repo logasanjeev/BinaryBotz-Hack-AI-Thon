{
 "cells": [
  {
   "cell_type": "code",
   "execution_count": 2,
   "id": "0b1767bc-539c-428f-826e-ea09fb4e7160",
   "metadata": {},
   "outputs": [
    {
     "name": "stdout",
     "output_type": "stream",
     "text": [
      "\n",
      "Llama 3.1 Response:\n",
      " Yes\n"
     ]
    }
   ],
   "source": [
    "import ollama\n",
    "\n",
    "# Initialize Llama 3.1 model\n",
    "model_name = \"llama3.1\"\n",
    "\n",
    "# Define the question\n",
    "question = \"Are Cerebrovascular Accident (CVA) and Stroke the same? Just answer yes or no\"\n",
    "\n",
    "# Generate response\n",
    "response = ollama.chat(model=model_name, messages=[{\"role\": \"user\", \"content\": question}])\n",
    "\n",
    "# Print the response\n",
    "print(\"\\nLlama 3.1 Response:\\n\", response[\"message\"][\"content\"])"
   ]
  },
  {
   "cell_type": "code",
   "execution_count": null,
   "id": "0d619186-ea37-4af5-b178-02a7593c1498",
   "metadata": {},
   "outputs": [],
   "source": []
  }
 ],
 "metadata": {
  "kernelspec": {
   "display_name": "Python 3 (ipykernel)",
   "language": "python",
   "name": "python3"
  },
  "language_info": {
   "codemirror_mode": {
    "name": "ipython",
    "version": 3
   },
   "file_extension": ".py",
   "mimetype": "text/x-python",
   "name": "python",
   "nbconvert_exporter": "python",
   "pygments_lexer": "ipython3",
   "version": "3.12.9"
  }
 },
 "nbformat": 4,
 "nbformat_minor": 5
}
